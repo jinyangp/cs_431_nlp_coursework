{
 "cells": [
  {
   "cell_type": "markdown",
   "metadata": {},
   "source": [
    "# Spam Classification Evaluation"
   ]
  },
  {
   "cell_type": "markdown",
   "metadata": {},
   "source": [
    "This practical sessions was produced using [Jupyter](http://jupyter.org). If you are used to it, you can [download the corresponding notebook code from here](TP-SpamClassification.ipynb). If not, no problem at all, this is not mandatory: simply proceed as usual in your favorite Python environment."
   ]
  },
  {
   "cell_type": "markdown",
   "metadata": {},
   "source": [
    "## Introduction\n",
    "\n",
    "The aim of this practical session is to get yourself acquainted with the ill-balanced nature of NLP classification tasks and to get some exposure to the [scikit-learn](https://scikit-learn.org/stable/index.html) and [spaCy](https://spacy.io/) packages.\n",
    "\n",
    "A great example of a highly-biased task is **spam classification**. The goal of the task is to classify whether a given piece of text (e.g., email, sms message) is spam or not. Since there are only 2 classes (spam or not), we call such tasks **binary classification**.\n",
    "\n",
    "In reality, the amount of examples we have of non-spam emails is much larger than the ones that are spam. Therefore, we need proper evaluation techniques to deal with such a class imbalance.\n",
    "\n",
    "*Fun fact: if a piece of text is not spam, it's popularly called ham!*\n",
    "\n",
    "### Content Warning: this exercise's data will contain explicit words."
   ]
  },
  {
   "cell_type": "markdown",
   "metadata": {},
   "source": [
    "## Setting up your environment\n",
    "\n",
    "While you can download the following packages with `pip` to your computer directly, we recommend **(but not require)** you to use a [virtual environment](https://packaging.python.org/en/latest/guides/installing-using-pip-and-virtual-environments/) to not mess up the package versions for different project. If you'd like to, here is a [quick tutorial](https://docs.google.com/document/d/1D8TapyWrfyWijfrGq5BtYfrAoWmSmgcP-Gx3i2MXWvo/edit) on virtual environments that you can checkout with an EPFL email. \n",
    "\n",
    "First make sure you have (a virtual environment (e.g., [venv, virtualenv](https://docs.python.org/3/library/venv.html), [conda](https://docs.conda.io/en/latest/miniconda.html)), and that the environment has) a Python version >= 3.6, per [spaCy package requirements](https://spacy.io/usage). If you are using the a Jupyter Notebook, make sure the interpreter points to the correct `python` executable."
   ]
  },
  {
   "cell_type": "markdown",
   "metadata": {},
   "source": [
    "Then install the following packages:\n",
    "\n",
    "```\n",
    "pip install -U ipykernel\n",
    "pip install -U pip setuptools wheel\n",
    "pip install -U pandas\n",
    "pip install -U matplotlib\n",
    "pip install -U scikit-learn\n",
    "pip install -U seaborn\n",
    "pip install -U spacy\n",
    "pip install -U classy-classification\n",
    "\n",
    "python -m spacy download en_core_web_sm\n",
    "```"
   ]
  },
  {
   "cell_type": "markdown",
   "metadata": {},
   "source": [
    "Next, import the necessary packages:\n",
    "\n",
    "*Note: if this part of the code hangs, simply restart your kernel and rerun, sometimes importing packages multiple times can create a problem*"
   ]
  },
  {
   "cell_type": "code",
   "execution_count": 1,
   "metadata": {
    "tags": []
   },
   "outputs": [],
   "source": [
    "# Importing necessary packages:\n",
    "import spacy\n",
    "import classy_classification\n",
    "import pandas as pd\n",
    "import numpy as np\n",
    "import os\n",
    "import random\n",
    "import matplotlib.pyplot as plt\n",
    "import seaborn as sns\n",
    "from sklearn.metrics import accuracy_score, precision_score, recall_score, f1_score, confusion_matrix, precision_recall_curve\n",
    "from sklearn.model_selection import train_test_split, KFold\n",
    "from sklearn import metrics\n",
    "\n",
    "# Setting the seed:\n",
    "seed = 42\n",
    "os.environ['PYTHONHASHSEED']=str(seed)\n",
    "random.seed(seed)\n",
    "np.random.seed(seed)\n",
    "\n",
    "# Setting print options for readability:\n",
    "pd.set_option('display.max_columns', None)\n",
    "pd.set_option('display.expand_frame_repr', False)\n",
    "pd.set_option('max_colwidth', None)"
   ]
  },
  {
   "cell_type": "markdown",
   "metadata": {},
   "source": [
    "Now you are ready to start the exercises!"
   ]
  },
  {
   "cell_type": "markdown",
   "metadata": {},
   "source": [
    "## 1) Brief Data Analysis & Processing\n",
    "\n",
    "To evaluate the spam task, we will use an annotated English sms corpus from  Kaggle. You can download the data [here](https://coling.epfl.ch/TP/spam.csv). Run the following 2 blocks of code to see what the data looks like:"
   ]
  },
  {
   "cell_type": "code",
   "execution_count": 2,
   "metadata": {
    "tags": []
   },
   "outputs": [
    {
     "data": {
      "text/html": [
       "<div>\n",
       "<style scoped>\n",
       "    .dataframe tbody tr th:only-of-type {\n",
       "        vertical-align: middle;\n",
       "    }\n",
       "\n",
       "    .dataframe tbody tr th {\n",
       "        vertical-align: top;\n",
       "    }\n",
       "\n",
       "    .dataframe thead th {\n",
       "        text-align: right;\n",
       "    }\n",
       "</style>\n",
       "<table border=\"1\" class=\"dataframe\">\n",
       "  <thead>\n",
       "    <tr style=\"text-align: right;\">\n",
       "      <th></th>\n",
       "      <th>label</th>\n",
       "      <th>sms</th>\n",
       "    </tr>\n",
       "  </thead>\n",
       "  <tbody>\n",
       "    <tr>\n",
       "      <th>0</th>\n",
       "      <td>ham</td>\n",
       "      <td>Go until jurong point, crazy.. Available only in bugis n great world la e buffet... Cine there got amore wat...</td>\n",
       "    </tr>\n",
       "    <tr>\n",
       "      <th>1</th>\n",
       "      <td>ham</td>\n",
       "      <td>Ok lar... Joking wif u oni...</td>\n",
       "    </tr>\n",
       "    <tr>\n",
       "      <th>2</th>\n",
       "      <td>spam</td>\n",
       "      <td>Free entry in 2 a wkly comp to win FA Cup final tkts 21st May 2005. Text FA to 87121 to receive entry question(std txt rate)T&amp;C's apply 08452810075over18's</td>\n",
       "    </tr>\n",
       "    <tr>\n",
       "      <th>3</th>\n",
       "      <td>ham</td>\n",
       "      <td>U dun say so early hor... U c already then say...</td>\n",
       "    </tr>\n",
       "    <tr>\n",
       "      <th>4</th>\n",
       "      <td>ham</td>\n",
       "      <td>Nah I don't think he goes to usf, he lives around here though</td>\n",
       "    </tr>\n",
       "  </tbody>\n",
       "</table>\n",
       "</div>"
      ],
      "text/plain": [
       "  label                                                                                                                                                          sms\n",
       "0   ham                                              Go until jurong point, crazy.. Available only in bugis n great world la e buffet... Cine there got amore wat...\n",
       "1   ham                                                                                                                                Ok lar... Joking wif u oni...\n",
       "2  spam  Free entry in 2 a wkly comp to win FA Cup final tkts 21st May 2005. Text FA to 87121 to receive entry question(std txt rate)T&C's apply 08452810075over18's\n",
       "3   ham                                                                                                            U dun say so early hor... U c already then say...\n",
       "4   ham                                                                                                Nah I don't think he goes to usf, he lives around here though"
      ]
     },
     "execution_count": 2,
     "metadata": {},
     "output_type": "execute_result"
    }
   ],
   "source": [
    "df = pd.read_csv(\"spam.csv\", header=0, names=['label','sms'], usecols=[0,1])\n",
    "df.head()"
   ]
  },
  {
   "cell_type": "code",
   "execution_count": 3,
   "metadata": {
    "tags": []
   },
   "outputs": [
    {
     "data": {
      "text/html": [
       "<div>\n",
       "<style scoped>\n",
       "    .dataframe tbody tr th:only-of-type {\n",
       "        vertical-align: middle;\n",
       "    }\n",
       "\n",
       "    .dataframe tbody tr th {\n",
       "        vertical-align: top;\n",
       "    }\n",
       "\n",
       "    .dataframe thead th {\n",
       "        text-align: right;\n",
       "    }\n",
       "</style>\n",
       "<table border=\"1\" class=\"dataframe\">\n",
       "  <thead>\n",
       "    <tr style=\"text-align: right;\">\n",
       "      <th></th>\n",
       "      <th>label</th>\n",
       "      <th>sms</th>\n",
       "    </tr>\n",
       "  </thead>\n",
       "  <tbody>\n",
       "    <tr>\n",
       "      <th>5567</th>\n",
       "      <td>spam</td>\n",
       "      <td>This is the 2nd time we have tried 2 contact u. U have won the �750 Pound prize. 2 claim is easy, call 087187272008 NOW1! Only 10p per minute. BT-national-rate.</td>\n",
       "    </tr>\n",
       "    <tr>\n",
       "      <th>5568</th>\n",
       "      <td>ham</td>\n",
       "      <td>Will �_ b going to esplanade fr home?</td>\n",
       "    </tr>\n",
       "    <tr>\n",
       "      <th>5569</th>\n",
       "      <td>ham</td>\n",
       "      <td>Pity, * was in mood for that. So...any other suggestions?</td>\n",
       "    </tr>\n",
       "    <tr>\n",
       "      <th>5570</th>\n",
       "      <td>ham</td>\n",
       "      <td>The guy did some bitching but I acted like i'd be interested in buying something else next week and he gave it to us for free</td>\n",
       "    </tr>\n",
       "    <tr>\n",
       "      <th>5571</th>\n",
       "      <td>ham</td>\n",
       "      <td>Rofl. Its true to its name</td>\n",
       "    </tr>\n",
       "  </tbody>\n",
       "</table>\n",
       "</div>"
      ],
      "text/plain": [
       "     label                                                                                                                                                               sms\n",
       "5567  spam  This is the 2nd time we have tried 2 contact u. U have won the �750 Pound prize. 2 claim is easy, call 087187272008 NOW1! Only 10p per minute. BT-national-rate.\n",
       "5568   ham                                                                                                                             Will �_ b going to esplanade fr home?\n",
       "5569   ham                                                                                                         Pity, * was in mood for that. So...any other suggestions?\n",
       "5570   ham                                     The guy did some bitching but I acted like i'd be interested in buying something else next week and he gave it to us for free\n",
       "5571   ham                                                                                                                                        Rofl. Its true to its name"
      ]
     },
     "execution_count": 3,
     "metadata": {},
     "output_type": "execute_result"
    }
   ],
   "source": [
    "df.tail()"
   ]
  },
  {
   "cell_type": "markdown",
   "metadata": {},
   "source": [
    "As you can see there are 2 types of classes: \"ham\" & \"spam\". Let's take a look at their distribution:"
   ]
  },
  {
   "cell_type": "code",
   "execution_count": 4,
   "metadata": {
    "tags": []
   },
   "outputs": [
    {
     "name": "stdout",
     "output_type": "stream",
     "text": [
      "Label counts are:\n",
      "ham     4825\n",
      "spam     747\n",
      "Name: label, dtype: int64\n",
      "______________________\n",
      "Label percentages are:\n",
      "ham     0.865937\n",
      "spam    0.134063\n",
      "Name: label, dtype: float64\n"
     ]
    }
   ],
   "source": [
    "print(\"Label counts are:\")\n",
    "print(df.label.value_counts())\n",
    "\n",
    "print(\"______________________\")\n",
    "print(\"Label percentages are:\")\n",
    "print(df.label.value_counts(normalize=True))"
   ]
  },
  {
   "cell_type": "markdown",
   "metadata": {},
   "source": [
    "**Q: How is this dataset's label distribution imbalanced? Which datapoints are more common?**\n",
    "\n",
    "**A:** Much larger proportion of ham SMS as compared to spam SMS."
   ]
  },
  {
   "cell_type": "markdown",
   "metadata": {},
   "source": [
    "Let's do some minor data processing. We map the labels {\"ham\" $\\implies$ 0} and {\"spam\" $\\implies$ 1} as our goal is to identify spam messages."
   ]
  },
  {
   "cell_type": "code",
   "execution_count": 5,
   "metadata": {
    "tags": []
   },
   "outputs": [
    {
     "data": {
      "text/html": [
       "<div>\n",
       "<style scoped>\n",
       "    .dataframe tbody tr th:only-of-type {\n",
       "        vertical-align: middle;\n",
       "    }\n",
       "\n",
       "    .dataframe tbody tr th {\n",
       "        vertical-align: top;\n",
       "    }\n",
       "\n",
       "    .dataframe thead th {\n",
       "        text-align: right;\n",
       "    }\n",
       "</style>\n",
       "<table border=\"1\" class=\"dataframe\">\n",
       "  <thead>\n",
       "    <tr style=\"text-align: right;\">\n",
       "      <th></th>\n",
       "      <th>label</th>\n",
       "      <th>sms</th>\n",
       "    </tr>\n",
       "  </thead>\n",
       "  <tbody>\n",
       "    <tr>\n",
       "      <th>0</th>\n",
       "      <td>0</td>\n",
       "      <td>Go until jurong point, crazy.. Available only in bugis n great world la e buffet... Cine there got amore wat...</td>\n",
       "    </tr>\n",
       "    <tr>\n",
       "      <th>1</th>\n",
       "      <td>0</td>\n",
       "      <td>Ok lar... Joking wif u oni...</td>\n",
       "    </tr>\n",
       "    <tr>\n",
       "      <th>2</th>\n",
       "      <td>1</td>\n",
       "      <td>Free entry in 2 a wkly comp to win FA Cup final tkts 21st May 2005. Text FA to 87121 to receive entry question(std txt rate)T&amp;C's apply 08452810075over18's</td>\n",
       "    </tr>\n",
       "    <tr>\n",
       "      <th>3</th>\n",
       "      <td>0</td>\n",
       "      <td>U dun say so early hor... U c already then say...</td>\n",
       "    </tr>\n",
       "    <tr>\n",
       "      <th>4</th>\n",
       "      <td>0</td>\n",
       "      <td>Nah I don't think he goes to usf, he lives around here though</td>\n",
       "    </tr>\n",
       "  </tbody>\n",
       "</table>\n",
       "</div>"
      ],
      "text/plain": [
       "   label                                                                                                                                                          sms\n",
       "0      0                                              Go until jurong point, crazy.. Available only in bugis n great world la e buffet... Cine there got amore wat...\n",
       "1      0                                                                                                                                Ok lar... Joking wif u oni...\n",
       "2      1  Free entry in 2 a wkly comp to win FA Cup final tkts 21st May 2005. Text FA to 87121 to receive entry question(std txt rate)T&C's apply 08452810075over18's\n",
       "3      0                                                                                                            U dun say so early hor... U c already then say...\n",
       "4      0                                                                                                Nah I don't think he goes to usf, he lives around here though"
      ]
     },
     "execution_count": 5,
     "metadata": {},
     "output_type": "execute_result"
    }
   ],
   "source": [
    "df['label'] = df['label'].replace(to_replace={'ham': 0, 'spam': 1})\n",
    "df.head()"
   ]
  },
  {
   "cell_type": "markdown",
   "metadata": {},
   "source": [
    "Then, to make sure that we don't overfit our models to the data, we split the data into train and test sets. We use the very convenient [**train_test_split**](https://scikit-learn.org/stable/modules/generated/sklearn.model_selection.train_test_split.html) function from [scikit-learn](https://scikit-learn.org/stable/index.html). The *test_size* parameter allows us to choose what percentage of the data should be in the test set. $x$ is the sms message, while $y$ is the corresponding label to the sms.\n",
    "\n",
    "Remember, when you are prototyping a model, never use the test data. The goal of the test data is to simulate an independently sampled dataset, that cannot be seen during training and model designing. Extracted statistics should come from the training set only."
   ]
  },
  {
   "cell_type": "code",
   "execution_count": 6,
   "metadata": {
    "tags": []
   },
   "outputs": [
    {
     "name": "stdout",
     "output_type": "stream",
     "text": [
      "Spam amount in train set: 597 out of 4457 datapoints\n",
      "Spam percentage in train set: 13.3947%\n",
      "Size of train set is:  4457\n",
      "Size of test set is:  1115\n"
     ]
    }
   ],
   "source": [
    "x_train, x_test, y_train, y_test = train_test_split(df['sms'].values, df['label'].values, test_size=0.2, random_state=seed)\n",
    "\n",
    "print(\"Spam amount in train set: {} out of {} datapoints\".format((y_train == 1).sum(), len(y_train)))\n",
    "print(\"Spam percentage in train set: {}%\".format(round((y_train == 1).sum() / float(len(y_train)) * 100, 4)))\n",
    "\n",
    "print(\"Size of train set is: \", len(y_train))\n",
    "print(\"Size of test set is: \", len(y_test))"
   ]
  },
  {
   "cell_type": "markdown",
   "metadata": {},
   "source": [
    "## 2) Simple & Random Classifiers"
   ]
  },
  {
   "cell_type": "markdown",
   "metadata": {},
   "source": [
    "### 2.1) Accuracy"
   ]
  },
  {
   "cell_type": "markdown",
   "metadata": {},
   "source": [
    "Our first task is to evaluate simple classifiers to see how well they do on the spam classification task. Note that while there is a text input, none of these classifiers actually care about the content of the string. Remember that a **prior** in probability is one's belief about a quantity given some past evidence.\n",
    "\n",
    "1. **rand_binom_uniform_classifier:** The first model uniformly randomly classifies the label for a given piece of text, meaning the prior is $p=0.5$.\n",
    "\n",
    "2. **rand_binom_biased_classifier:** The second model binomally samples a label, *you should chose which prior $p$ you think makes the most sense!*\n",
    "\n",
    "3. **always_false_classifier:** The third model returns always false, basically assuming that no text can ever be spam.\n",
    "\n",
    "Don't forget to change the value **prior_p** $=0.5$! Chose the value informatively! Think which statistics can help you with this."
   ]
  },
  {
   "cell_type": "code",
   "execution_count": 7,
   "metadata": {
    "tags": []
   },
   "outputs": [],
   "source": [
    "##############################\n",
    "# TODO: write a prior you think that makes the most sense in the next line for the rand_binom_biased_classifier:\n",
    "prior_p = 0.134 # <-------- CHANGE THIS VALUE!\n",
    "##############################\n",
    "\n",
    "def rand_binom_uniform_classifier(text):\n",
    "    \"\"\"\n",
    "    Unfiormly randomly picks a binary label.\n",
    "    Returns ints 0 or 1.\n",
    "    \"\"\"\n",
    "    return np.random.binomial(n=1, p=0.5)\n",
    "\n",
    "def rand_binom_biased_classifier(text):\n",
    "    \"\"\"\n",
    "    Randomly picks a binary label according to a prior_p.\n",
    "    Returns ints 0 or 1.\n",
    "    \"\"\"\n",
    "    return np.random.binomial(n=1, p=prior_p)\n",
    "\n",
    "def always_false_classifier(text):\n",
    "    \"\"\"\n",
    "    Always returns int 0.\n",
    "    \"\"\"\n",
    "    return 0\n",
    "\n",
    "def predict(model, dataset):\n",
    "    \"\"\"\n",
    "    Applies model prediction on every sentence.\n",
    "    \"\"\"\n",
    "    return [model(text) for text in dataset]"
   ]
  },
  {
   "cell_type": "markdown",
   "metadata": {},
   "source": [
    "Now we are going to use the [accuracy_score](https://scikit-learn.org/stable/modules/generated/sklearn.metrics.accuracy_score.html) metric provided by scikit-learn:"
   ]
  },
  {
   "cell_type": "code",
   "execution_count": 8,
   "metadata": {
    "tags": []
   },
   "outputs": [
    {
     "name": "stdout",
     "output_type": "stream",
     "text": [
      "Model: Rand Uniform || Accuracy: 50.4036%\n",
      "Model: Rand Binom p=0.134 || Accuracy: 77.13%\n",
      "Model: Always False || Accuracy: 86.5471%\n"
     ]
    }
   ],
   "source": [
    "rand_binom_uniform_preds = predict(rand_binom_uniform_classifier, x_test)\n",
    "rand_binom_biased_preds = predict(rand_binom_biased_classifier, x_test)\n",
    "always_false_preds = predict(always_false_classifier, x_test)\n",
    "\n",
    "for model_name, model in [\n",
    "        (\"Rand Uniform\", rand_binom_uniform_classifier), \n",
    "        (\"Rand Binom p={}\".format(prior_p), rand_binom_biased_classifier), \n",
    "        (\"Always False\", always_false_classifier)]:\n",
    "    test_preds = predict(model, x_test)\n",
    "    test_accuracy = accuracy_score(y_test, test_preds) # NOTE: here we pass the gold labels and the predicted labels to calculate how well our model is doing\n",
    "    print(\"Model: {} || Accuracy: {}%\".format(model_name, round(test_accuracy * 100, 4)))"
   ]
  },
  {
   "cell_type": "markdown",
   "metadata": {},
   "source": [
    "Wow! Looks like the \"Always False\" classifier is amazing at this task, even better than randomly choosing. Over 85% sounds like a pretty good result. Can we call it quits, and go home now? Not so fast... Answer the following questions."
   ]
  },
  {
   "cell_type": "markdown",
   "metadata": {},
   "source": [
    "**Q: Which prior did you choose and why do you think it fits the problem? If you chose your prior informatively, the Rand Binom classifier should be better than the Rand Uniform classifier. Why is the biased random classifier doing better than the uniform one?**\n",
    "\n",
    "**A:** \n",
    "<br/>\n",
    "I chose a prior of 0.134. This is based on the probability that a SMS is spam based on the number of SMS that are annotated as ham or spam. Hence, if each SMS is selected randomly, the probability of the SMS being spam would be 0.134.\n",
    "\n",
    "The biased random classifier would perform better than the uniform one as the percentage of spam SMS is not even close to 0.5. This leads to more SMS being classified as spam when they are not (false positives) thereby causing a drop in accuracy."
   ]
  },
  {
   "cell_type": "markdown",
   "metadata": {},
   "source": [
    "**Q: How would using testing data to design the model be \"bad practice\"? Give an example.**\n",
    "\n",
    "**A**:\n",
    "<br/>\n",
    "Model would be tested on same data it was trained on but in fact it should have been on data that the model has not seen before. This can lead to an overestimate of the model's performance as the model is likely to perform better when tested on data it has seen before."
   ]
  },
  {
   "cell_type": "markdown",
   "metadata": {},
   "source": [
    "**Q: Why is the accuracy score not the correct metric to use in this task? Which classifier is a good example of this? What other metrics can be used and why would they be a better fit for this task?** \n",
    "\n",
    "**A:** \n",
    "<br/>\n",
    "\n",
    "<u>Why accuracy score is not the correct metric</u>\n",
    "<br/>\n",
    "There is a huge imbalance of classes with 86% of data being annotated as spam. Using accuracy, which is a ratio of the *(number of correct predictions / total number of data)*, a high accuracy can be obtained easily. However, the model may not be actually having good performance. For example, it will be able to predict all spam as spam but may not be able to predict ham as ham (ham is predicted as spam) but a high accuracy is still obtained. This can potentially lead to a large number of false positives(?) with a high accuracy.\n",
    "\n",
    "<u>Which classifier is a good example of this</u>\n",
    "<br/>\n",
    "The always false classifier is a good example of this.\n",
    "\n",
    "<u>What other metrics can be used and why would they be a better fit for this task?</u>\n",
    "<br/>\n",
    "Another metric that can be used would be Recall. Using Recall, we are able to evaluate when the model predicts a SMS as spam, how much of these predictions are actually spam. This allows us to evaluate if the model is really able to distinguish between spam and ham and not achieve a good performance just by predicting the class with a larger majority in the dataset.\n",
    "\n",
    "Other metric that can be used: Precision (TP / TP + FP), Recall (TP / TP + FN)\n",
    "<br/>"
   ]
  },
  {
   "cell_type": "code",
   "execution_count": null,
   "metadata": {},
   "outputs": [],
   "source": [
    "'''\n",
    "sys\\ref  spam ham\n",
    "spam      tp fn\n",
    "ham       fp tn\n",
    "'''"
   ]
  },
  {
   "cell_type": "markdown",
   "metadata": {},
   "source": [
    "### 2.2) Precision, Recall, F1-score & Friends"
   ]
  },
  {
   "cell_type": "markdown",
   "metadata": {},
   "source": [
    "Now that you have convinced yourself that accuracy is not the sole metric we should be using. \n",
    "For the other possible scores we let you explore the following metrics conveniently provided by scikit-learn:\n",
    "\n",
    "- [precision_score](https://scikit-learn.org/stable/modules/generated/sklearn.metrics.precision_score.html)\n",
    "- [recall_score](https://scikit-learn.org/stable/modules/generated/sklearn.metrics.recall_score.html)\n",
    "- [f1_score](https://scikit-learn.org/stable/modules/generated/sklearn.metrics.f1_score.html)\n",
    "- [confusion_matrix](https://scikit-learn.org/stable/modules/generated/sklearn.metrics.confusion_matrix.html) - while this is not a metric, it allows to visualize the true positives, true negatives, false positives, and false negatives (TP, TN, FP, FN)\n",
    "\n",
    "Note that some of these function also has a *zero_division* parameter as the denominator of these metrics can be validly 0. In that case the default is to also output 0, but a warning may be raised. Feel free to ignore the warning."
   ]
  },
  {
   "cell_type": "markdown",
   "metadata": {},
   "source": [
    "---"
   ]
  },
  {
   "cell_type": "markdown",
   "metadata": {},
   "source": [
    "TIP: Can you not remember what precision and recall is? Remember it with the start of the word:\n",
    "\n",
    "- Precision: PREcision is TP divided by **PREdicted** positive: \n",
    "    > $ \\frac{TP}{TP+FP}$\n",
    "\n",
    "- Recall: REcAll is TP divided by **REAl** positive: TP/(TP+FN)\n",
    "    > $ \\frac{TP}{TP+FN}$\n",
    "\n",
    "source: [stats.stackexchange](https://stats.stackexchange.com/questions/122225/what-is-the-best-way-to-remember-the-difference-between-sensitivity-specificity)"
   ]
  },
  {
   "cell_type": "markdown",
   "metadata": {},
   "source": [
    "---"
   ]
  },
  {
   "cell_type": "code",
   "execution_count": 9,
   "metadata": {
    "tags": []
   },
   "outputs": [
    {
     "name": "stdout",
     "output_type": "stream",
     "text": [
      "Model: Rand Uniform\n",
      "\t|| Accuracy: 0.5219730941704036% \n",
      "\t|| Precision: 0.14990859232175502% \n",
      "\t|| Recall: 0.5466666666666666% \n",
      "\t|| F1: 0.2352941176470588% \n"
     ]
    },
    {
     "data": {
      "image/png": "[encoded data removed]",
      "text/plain": [
       "<Figure size 250x200 with 2 Axes>"
      ]
     },
     "metadata": {},
     "output_type": "display_data"
    },
    {
     "name": "stdout",
     "output_type": "stream",
     "text": [
      "Model: Rand Binom p=0.134\n",
      "\t|| Accuracy: 0.7713004484304933% \n",
      "\t|| Precision: 0.14285714285714285% \n",
      "\t|| Recall: 0.14% \n",
      "\t|| F1: 0.1414141414141414% \n"
     ]
    },
    {
     "data": {
      "image/png": "[encoded data removed]",
      "text/plain": [
       "<Figure size 250x200 with 2 Axes>"
      ]
     },
     "metadata": {},
     "output_type": "display_data"
    },
    {
     "name": "stdout",
     "output_type": "stream",
     "text": [
      "Model: Always False\n",
      "\t|| Accuracy: 0.8654708520179372% \n",
      "\t|| Precision: 0.0% \n",
      "\t|| Recall: 0.0% \n",
      "\t|| F1: 0.0% \n"
     ]
    },
    {
     "data": {
      "image/png": "[encoded data removed]",
      "text/plain": [
       "<Figure size 250x200 with 2 Axes>"
      ]
     },
     "metadata": {},
     "output_type": "display_data"
    }
   ],
   "source": [
    "for model_name, model in [\n",
    "        (\"Rand Uniform\", rand_binom_uniform_classifier), \n",
    "        (\"Rand Binom p={}\".format(prior_p), rand_binom_biased_classifier), \n",
    "        (\"Always False\", always_false_classifier)]:\n",
    "    \n",
    "    test_preds = predict(model, x_test)\n",
    "    \n",
    "    test_accuracy = accuracy_score(y_test, test_preds)\n",
    "    test_precision = precision_score(y_test, test_preds)\n",
    "    test_recall = recall_score(y_test, test_preds)\n",
    "    test_f1 = f1_score(y_test, test_preds)\n",
    "    cf_train_matrix = confusion_matrix(y_test, test_preds)\n",
    "\n",
    "    # print(\"________________________________________________________________\")\n",
    "    print(\"Model: {}\".format(model_name))\n",
    "    print(\"\\t|| Accuracy: {}% \".format(test_accuracy))\n",
    "    print(\"\\t|| Precision: {}% \".format(test_precision))\n",
    "    print(\"\\t|| Recall: {}% \".format(test_recall))\n",
    "    print(\"\\t|| F1: {}% \".format(test_f1))\n",
    "\n",
    "    plt.figure(figsize=(2.5,2))\n",
    "    sns.heatmap(cf_train_matrix, annot=True, fmt='d')\n",
    "    plt.xlabel(\"Predicted Labels\")\n",
    "    plt.ylabel(\"Real Labels\")\n",
    "    plt.show()"
   ]
  },
  {
   "cell_type": "markdown",
   "metadata": {},
   "source": [
    "**Q: What do precision, recall, or the confusion metrics tell us about the *\"Always False\"* model? Why don't we see this phenomenon with the random classifiers?**\n",
    "\n",
    "**A:**\n",
    "<br/>\n",
    "The \"Always False\" model predicts the SMS as ham indiscriminantly. Given a dataset with 965 data points annotated as ham, this leads to 965 TP and 0 FN. This is not observed in the random classifiers as they are able to discriminate between spam and ham to a certain degree."
   ]
  },
  {
   "cell_type": "markdown",
   "metadata": {},
   "source": [
    "**Q: What would be a more ideal confusion matrix result?**\n",
    "\n",
    "**A**:\n",
    "<br/>\n",
    "Most of the data points would be classified as TP or TN with some data points as FP/FN. Ideally, all data points should be classified as TP/TN."
   ]
  },
  {
   "cell_type": "markdown",
   "metadata": {},
   "source": [
    "## 3) Big IF Keyword-Matching Classifier"
   ]
  },
  {
   "cell_type": "markdown",
   "metadata": {},
   "source": [
    "So far, our models haven't taken into account the actual text. In this next task we build the most simple AI algorithm: a big IF statement that classifies the text as spam if a \"spam word\" is being used. To do so we first have to break the sentence down into words. Assuming we only have English sentences, we can separate them by space or punctuation. This action of breaking a sentence into tokens is called [tokenization](https://spacy.io/usage/linguistic-features#tokenization). For now instead of using the spaCy implementation, let's create our own simple tokenizer that turns a sentence into a list of tokens by splitting on empty spaces."
   ]
  },
  {
   "cell_type": "markdown",
   "metadata": {},
   "source": [
    "Consider the sentence: \"I am not a spam message, don't confuse me with it!\"\n",
    "There are many ways we could break it into tokens:\n",
    "\n",
    "- With just space: \n",
    "    - ['I', 'am', 'not', 'a', 'spam', 'message,', \"don't\", 'confuse', 'me', 'with', 'it!']\n",
    "- Separate punctuation as well:\n",
    "    - ['I', 'am', 'not', 'a', 'spam', 'message', ',', \"don't\", 'confuse', 'me', 'with', 'it', '!']\n",
    "- Separating on apostrophe:\n",
    "    - ['I', 'am', 'not', 'a', 'spam', 'message', ',', 'do', \"n't\", 'confuse', 'me', 'with', 'it', '!']\n",
    "\n",
    "You could even tokenize sentence into subword elements. For example, it won't be very interesting, but you could even break it into characters!:\n",
    "- ['I', 'a', 'm', 'n', 'o', 't', 'a', 's', 'p', 'a', 'm', 'm', 'e', 's', 's', 'a', 'g', 'e', ',', 'd', 'o', 'n', \"'\", 't', 'c', 'o', 'n', 'f', 'u', 's', 'e', 'm', 'e', 'w', 'i', 't', 'h', 'i', 't', '!']\n",
    "\n"
   ]
  },
  {
   "cell_type": "code",
   "execution_count": 11,
   "metadata": {
    "tags": []
   },
   "outputs": [
    {
     "name": "stdout",
     "output_type": "stream",
     "text": [
      "['I', 'am', 'not', 'a', 'spam', 'message,', \"don't\", 'confuse', 'me', 'with', 'it!']\n",
      "None\n"
     ]
    }
   ],
   "source": [
    "def simple_tokenizer(text):\n",
    "    return text.split(\" \")\n",
    "\n",
    "def custom_tokenizer(text):\n",
    "    pass # TODO: OPTIONAL, have fun! Implement your own tokenizer that's more elegant than the above one\n",
    "\n",
    "print(simple_tokenizer(\"I am not a spam message, don't confuse me with it!\"))\n",
    "print(custom_tokenizer(\"I am not a spam message, don't confuse me with it!\"))"
   ]
  },
  {
   "cell_type": "markdown",
   "metadata": {},
   "source": [
    "Let's take a look at what our tokenizer does on our dataset:"
   ]
  },
  {
   "cell_type": "code",
   "execution_count": 12,
   "metadata": {
    "tags": []
   },
   "outputs": [
    {
     "name": "stdout",
     "output_type": "stream",
     "text": [
      "__________________________________________________________________\n",
      "Label:  0\n",
      "Sentence:  I'll text carlos and let you know, hang on\n",
      "Tokenized version:  [\"I'll\", 'text', 'carlos', 'and', 'let', 'you', 'know,', 'hang', 'on']\n",
      "__________________________________________________________________\n",
      "Label:  0\n",
      "Sentence:  K.i did't see you.:)k:)where are you now?\n",
      "Tokenized version:  ['K.i', \"did't\", 'see', 'you.:)k:)where', 'are', 'you', 'now?']\n",
      "__________________________________________________________________\n",
      "Label:  1\n",
      "Sentence:  We know someone who you know that fancies you. Call 09058097218 to find out who. POBox 6, LS15HB 150p\n",
      "Tokenized version:  ['We', 'know', 'someone', 'who', 'you', 'know', 'that', 'fancies', 'you.', 'Call', '09058097218', 'to', 'find', 'out', 'who.', 'POBox', '6,', 'LS15HB', '150p']\n"
     ]
    }
   ],
   "source": [
    "x_tokenized_test = [simple_tokenizer(sentence) for sentence in x_test]\n",
    "for i in [5, 6, 2]:\n",
    "    print(\"__________________________________________________________________\")\n",
    "    print(\"Label: \", y_test[i])\n",
    "    print(\"Sentence: \", x_test[i])\n",
    "    print(\"Tokenized version: \", x_tokenized_test[i])"
   ]
  },
  {
   "cell_type": "code",
   "execution_count": 13,
   "metadata": {
    "tags": []
   },
   "outputs": [],
   "source": [
    "# TODO: Change or fill more with words you think indicate a spam message!\n",
    "spam_words = [\"money\", \"drugs\", \"winner\", \"call\"]"
   ]
  },
  {
   "cell_type": "markdown",
   "metadata": {},
   "source": [
    "Now let's implement our keyword matching algorithm:"
   ]
  },
  {
   "cell_type": "code",
   "execution_count": 14,
   "metadata": {
    "tags": []
   },
   "outputs": [],
   "source": [
    "def big_if_classifier(text):\n",
    "    tokenized_text = simple_tokenizer(text)\n",
    "    for token in tokenized_text:\n",
    "        if token in spam_words:\n",
    "            return 1\n",
    "    return 0"
   ]
  },
  {
   "cell_type": "markdown",
   "metadata": {},
   "source": [
    "Next, we evaluate the big if classifier:"
   ]
  },
  {
   "cell_type": "code",
   "execution_count": 15,
   "metadata": {
    "tags": []
   },
   "outputs": [
    {
     "name": "stdout",
     "output_type": "stream",
     "text": [
      "Model: Big If\n",
      "\t|| Accuracy: 0.8645739910313901% \n",
      "\t|| Precision: 0.49411764705882355% \n",
      "\t|| Recall: 0.28% \n",
      "\t|| F1: 0.3574468085106383% \n"
     ]
    },
    {
     "data": {
      "image/png": "[encoded data removed]",
      "text/plain": [
       "<Figure size 250x200 with 2 Axes>"
      ]
     },
     "metadata": {},
     "output_type": "display_data"
    }
   ],
   "source": [
    "for model_name, model in [(\"Big If\", big_if_classifier)]:\n",
    "    \n",
    "    test_preds = predict(model, x_test)\n",
    "    test_accuracy = accuracy_score(y_test, test_preds)\n",
    "    test_precision = precision_score(y_test, test_preds)\n",
    "    test_recall = recall_score(y_test, test_preds)\n",
    "    test_f1 = f1_score(y_test, test_preds)\n",
    "\n",
    "    print(\"Model: {}\".format(model_name))\n",
    "    print(\"\\t|| Accuracy: {}% \".format(test_accuracy))\n",
    "    print(\"\\t|| Precision: {}% \".format(test_precision))\n",
    "    print(\"\\t|| Recall: {}% \".format(test_recall))\n",
    "    print(\"\\t|| F1: {}% \".format(test_f1))\n",
    "\n",
    "    cf_train_matrix = confusion_matrix(y_test, test_preds)\n",
    "    plt.figure(figsize=(2.5,2))\n",
    "    sns.heatmap(cf_train_matrix, annot=True, fmt='d')\n",
    "    plt.xlabel(\"Predicted Labels\")\n",
    "    plt.ylabel(\"Real Labels\")\n",
    "    plt.show()"
   ]
  },
  {
   "cell_type": "markdown",
   "metadata": {},
   "source": [
    "**Q: What are some of the shortcomings of this big-if classifier? How could you mitigate such problems?**\n",
    "\n",
    "**A:**\n",
    "\n",
    "Shortcomings:\n",
    "- Words in spam_words are taken out of context and this can lead to an increase in number of FP (A SMS annotated as ham which has any of these words will be classified as spam).\n",
    "- Need to have a comprehensive list of words (A longer list of words) so that the words are representative of the words that appear in spam SMS.\n",
    "\n",
    "Mitigations:\n",
    "- Perform data exploration on the words that appear in spam SMS and choose the top few words to be included in the list.\n",
    "- Check for phrases rather than words alone."
   ]
  },
  {
   "cell_type": "markdown",
   "metadata": {},
   "source": [
    "**Q: What are some other linguistic features you think that could help classify spam messages without having as many false-negatives? To check what type of linguistic features you can extract with [spacy](https://spacy.io/), take a look at [this page](https://spacy.io/usage/linguistic-features).**\n",
    "\n",
    "*A: TODO - your answer here!*"
   ]
  },
  {
   "cell_type": "markdown",
   "metadata": {},
   "source": [
    "## 4) SpaCy Classifier"
   ]
  },
  {
   "cell_type": "markdown",
   "metadata": {},
   "source": [
    "### Loading the following classifier can take from 0.5-7 minutes depending on your internet connection, so start running this code while reading the rest of the notebook (ignore the warnings!):"
   ]
  },
  {
   "cell_type": "code",
   "execution_count": null,
   "metadata": {},
   "outputs": [],
   "source": [
    "# NOTE: Ignore the content of this code. Simply run it :)\n",
    "\n",
    "# -) Reformatting data for spacy text categorizer\n",
    "#    The few-shotness comes from the fact that we only train with 200 examples from the actual ~4000 training examples we have\n",
    "import spacy_transformers\n",
    "train_data_dict = {\n",
    "    \"1\": [],\n",
    "    \"0\": []\n",
    "}\n",
    "for i in range(200): \n",
    "    label_str = str(y_train[i])\n",
    "    train_data_dict[label_str] = train_data_dict[label_str] + [x_train[i]]\n",
    "\n",
    "# -) Load the spacy text categorizer / few-shot learn from the reformatted examples\n",
    "spacy_classifier = spacy.load(\"en_core_web_sm\") # nlp = spacy.blank(\"en\") \n",
    "spacy_classifier.add_pipe(\n",
    "    \"text_categorizer\", \n",
    "    config={\n",
    "        \"data\": train_data_dict, \n",
    "        \"model\": \"sentence-transformers/paraphrase-multilingual-MiniLM-L12-v2\",\n",
    "        \"device\": \"cpu\"\n",
    "    }\n",
    ")"
   ]
  },
  {
   "cell_type": "markdown",
   "metadata": {},
   "source": [
    "The following classifier will be a classifier trained with spacy that you will learn later on in the course. For now focus on the evaluation & some cool aspects of this package.\n",
    "\n",
    "You may have noticed that our tokenization is too simple. \"money\" could be written right before a comma, and apostrophes might also create duplicate tokens that actually refer to the same word. Spacy provides a [tokenizer](https://spacy.io/usage/linguistic-features#tokenization) for different languages that takes care of such edge cases. \n",
    "\n",
    "And that's not only it! The framework is organized as a pipeline that takes a plain string **text** and turns it into a featurized **Doc**. Document here doesn't mean multiple sentences. You can think of **Doc** as an augmentation of the plain text into meaningful linguistic features that can be better signals for classification tasks. Here is a possible set of [components](https://spacy.io/usage/processing-pipelines) to make up the spacy *nlp* pipeline:\n",
    "\n",
    "![NLP Pipeline](spacy-pipeline.svg)\n",
    "\n",
    "Notice that the tokenizer is separate. This is because for a given language, spaCy has only one tokenizer. As said on the [website](https://spacy.io/usage/processing-pipelines#pipeline-components-tokenizer:~:text=The%20capabilities%20of%20a%20processing%20pipeline%20always%20depend%20on%20the%20components):\n",
    "    \n",
    "> [...] while all other pipeline components take a Doc and return it, the tokenizer takes a string of text and turns it into a Doc\n",
    "    \n",
    "So let's create an English pipeline with only the tokenizer by disabling the rest of the components."
   ]
  },
  {
   "cell_type": "markdown",
   "metadata": {},
   "source": [
    "First, we need to load the language specific **nlp** pipeline with spacy.load(). Then there are 2 ways to pass text into spacy.\n",
    "1. You can process an individual string with:\n",
    "    ```\n",
    "    nlp(text)\n",
    "    ```\n",
    "2. You can process a stream of multiple strings with:\n",
    "    ```\n",
    "    nlp.pipe(texts)\n",
    "    ```"
   ]
  },
  {
   "cell_type": "code",
   "execution_count": null,
   "metadata": {},
   "outputs": [],
   "source": [
    "sample_texts = [\n",
    "    \"This message is not a spam, believe me!!\",\n",
    "    \"I AM DEFINETLY A SPAM, give me 2000$, I need money, please help!\",\n",
    "    \"I am not a spam message, don't confuse me with it!\"\n",
    "]\n",
    "\n",
    "# 1) Load the language specific NLP pipeline\n",
    "nlp = spacy.load(\"en_core_web_sm\")\n",
    "print(\"The default English nlp pipe components are: {}. We disable them in the pipe call.\\n\".format(nlp.pipe_names))\n",
    "\n",
    "# 2) Process multiple texts with the nlp.pipe function\n",
    "for doc in nlp.pipe(sample_texts, disable=['tok2vec', 'tagger', 'parser', 'attribute_ruler', 'lemmatizer', 'ner']):\n",
    "    print([token.text for token in doc])"
   ]
  },
  {
   "cell_type": "code",
   "execution_count": null,
   "metadata": {},
   "outputs": [],
   "source": [
    "print(spacy_classifier(\"I am looking for kitchen appliances.\")._.cats)"
   ]
  },
  {
   "cell_type": "code",
   "execution_count": null,
   "metadata": {},
   "outputs": [],
   "source": [
    "print(spacy_classifier(\"For only 1000$, you can also be a winner!\")._.cats)"
   ]
  },
  {
   "cell_type": "markdown",
   "metadata": {},
   "source": [
    "Wow! The predicted probabilities for each label seem quite reasonable. Now let's test this on the whole test dataset:"
   ]
  },
  {
   "cell_type": "code",
   "execution_count": null,
   "metadata": {},
   "outputs": [],
   "source": [
    "def predict_spacy(model, dataset):\n",
    "    preds = []\n",
    "    for doc in model.pipe(dataset):\n",
    "        res_dict = doc._.cats\n",
    "        pred = int(max(res_dict, key=res_dict.get)) # NOTE: this is one way to argmax in python\n",
    "        preds.append(pred)\n",
    "    return preds"
   ]
  },
  {
   "cell_type": "markdown",
   "metadata": {},
   "source": [
    "Evaluating with the spacy classifier takes longer than our models, so note that the following **may take around a minute**:"
   ]
  },
  {
   "cell_type": "code",
   "execution_count": null,
   "metadata": {},
   "outputs": [],
   "source": [
    "for model_name, model in [(\"Spacy\", spacy_classifier)]:\n",
    "    \n",
    "    test_preds = predict_spacy(model, x_test)\n",
    "    \n",
    "    test_accuracy = accuracy_score(y_test, test_preds)\n",
    "    test_precision = precision_score(y_test, test_preds)\n",
    "    test_recall = recall_score(y_test, test_preds)\n",
    "    test_f1 = f1_score(y_test, test_preds)\n",
    "    cf_train_matrix = confusion_matrix(y_test, test_preds)\n",
    "\n",
    "    print(\"________________________________________________________________\")\n",
    "    print(\"Model: {}\".format(model_name))\n",
    "    print(\"\\t|| Accuracy: {}% \".format(test_accuracy))\n",
    "    print(\"\\t|| Precision: {}% \".format(test_precision))\n",
    "    print(\"\\t|| Recall: {}% \".format(test_recall))\n",
    "    print(\"\\t|| F1: {}% \".format(test_f1))\n",
    "\n",
    "    plt.figure(figsize=(2.5,2))\n",
    "    sns.heatmap(cf_train_matrix, annot=True, fmt='d')\n",
    "    plt.xlabel(\"Predicted Labels\")\n",
    "    plt.ylabel(\"Real Labels\")\n",
    "    plt.show()"
   ]
  },
  {
   "cell_type": "markdown",
   "metadata": {},
   "source": [
    "**Q: What can you notice about the precision/recall/F1/confusion matrix results? What is particularly improved compared to the \"Big-If\" classifier?**\n",
    "\n",
    "**A:**\n",
    "\n",
    "*Note: Comparing the \"Big-If\" confusion matrix from this notebook and the SpaCy confusion matrix from the notebook with outputs.*\n",
    "\n",
    "SpaCy has much better performance in predicting spam SMS when in fact the SMS is spam as compared to \"Big-If\". This can be seen in the large increase in TP and a corresponding decrease in FN.\n",
    "\n",
    "Increase in TP results in better Precision, Recall (lower FN as well) and F1 score."
   ]
  },
  {
   "cell_type": "markdown",
   "metadata": {},
   "source": [
    "## 5) Statistical Significance & Comparing all Models"
   ]
  },
  {
   "cell_type": "markdown",
   "metadata": {},
   "source": [
    "Now that we have many models under our belt, let's compare the statistical significance of the 4 classifiers:\n",
    "- Rand Binom\n",
    "- Always False\n",
    "- Big If\n",
    "- Spacy\n",
    "\n",
    "As you learned it lecture, one way to measure stastical significance is by doing a k-cross validation. Once again, scikit-learn has a convenient [KFold](https://scikit-learn.org/stable/modules/generated/sklearn.model_selection.KFold.html) class that splits a given dataset input and output into **k** folds. Here we will use **k** $=5$ which gives us a ratio of 0.2 validation set. We hold out the test set, and do this procedure only on the train set. Note that the following may take 10 minutes to run as the spacy model gets retrained with 200 examples every new k-fold."
   ]
  },
  {
   "cell_type": "code",
   "execution_count": null,
   "metadata": {},
   "outputs": [],
   "source": [
    "k = 5 # NOTE: You can change the value of k via the argument here!\n",
    "k_fold = KFold(k)\n",
    "kfold_iteration = enumerate(k_fold.split(x_train, y_train))\n",
    "\n",
    "metrics = {\n",
    "    \"Rand Uniform\": {\n",
    "        'acc': [],\n",
    "        'pre': [],\n",
    "        'rec': [],\n",
    "    },\n",
    "    \"Rand Binom p={}\".format(prior_p): {\n",
    "        'acc': [],\n",
    "        'pre': [],\n",
    "        'rec': [],\n",
    "    },\n",
    "    \"Always False\": {\n",
    "        'acc': [],\n",
    "        'pre': [],\n",
    "        'rec': [],\n",
    "    },\n",
    "    \"Big If\": {\n",
    "        'acc': [],\n",
    "        'pre': [],\n",
    "        'rec': [],\n",
    "    },\n",
    "    \"Spacy\": {\n",
    "        'acc': [],\n",
    "        'pre': [],\n",
    "        'rec': [],\n",
    "    },\n",
    "}\n",
    "\n",
    "for k, (train_idx, val_idx) in kfold_iteration:\n",
    "    print(\"K-cross validation iteration {}\".format(k))\n",
    "    x_tr, x_val = x_train[train_idx], x_train[val_idx]\n",
    "    y_tr, y_val = y_train[train_idx], y_train[val_idx]\n",
    "\n",
    "    for model_name, model in [\n",
    "        (\"Rand Uniform\", rand_binom_uniform_classifier), \n",
    "        (\"Rand Binom p={}\".format(prior_p), rand_binom_biased_classifier), \n",
    "        (\"Always False\", always_false_classifier),\n",
    "        (\"Big If\", big_if_classifier)]:\n",
    "\n",
    "        val_preds = predict(model, x_val)\n",
    "        metrics[model_name]['acc'].append(accuracy_score(y_val, val_preds))\n",
    "        metrics[model_name]['pre'].append(precision_score(y_val, val_preds))\n",
    "        metrics[model_name]['rec'].append(recall_score(y_val, val_preds))\n",
    "\n",
    "    for model_name, model in [(\"Spacy\", nlp)]:\n",
    "        train_data_dict = {\n",
    "            \"1\": [],\n",
    "            \"0\": []\n",
    "        }\n",
    "        for i in range(200): # NOTE: you can increase the training size by making this number larger\n",
    "            label_str = str(y_tr[i])\n",
    "            train_data_dict[label_str] = train_data_dict[label_str] + [x_tr[i]]\n",
    "\n",
    "        nlp = spacy.load(\"en_core_web_sm\") # nlp = spacy.blank(\"en\") \n",
    "        nlp.add_pipe(\n",
    "            \"text_categorizer\", \n",
    "            config={\n",
    "                \"data\": train_data_dict, \n",
    "                \"model\": \"sentence-transformers/paraphrase-multilingual-MiniLM-L12-v2\",\n",
    "                \"device\": \"cpu\"\n",
    "            }\n",
    "        )    \n",
    "        val_preds = predict_spacy(nlp, x_val)\n",
    "        metrics[model_name]['acc'].append(accuracy_score(y_val, val_preds))\n",
    "        metrics[model_name]['pre'].append(precision_score(y_val, val_preds))\n",
    "        metrics[model_name]['rec'].append(recall_score(y_val, val_preds))"
   ]
  },
  {
   "cell_type": "code",
   "execution_count": null,
   "metadata": {},
   "outputs": [],
   "source": [
    "acc_means = []\n",
    "acc_stds = []\n",
    "pre_means = []\n",
    "pre_stds = []\n",
    "rec_means = []\n",
    "rec_stds = []\n",
    "\n",
    "model_names = list(metrics.keys())\n",
    "for model in model_names:\n",
    "    acc_means.append(np.mean(metrics[model]['acc']))\n",
    "    acc_stds.append(np.std(metrics[model]['acc']))\n",
    "    #\n",
    "    pre_means.append(np.mean(metrics[model]['pre']))\n",
    "    pre_stds.append(np.std(metrics[model]['pre']))\n",
    "    #\n",
    "    rec_means.append(np.mean(metrics[model]['rec']))\n",
    "    rec_stds.append(np.std(metrics[model]['rec']))\n",
    "\n",
    "x = np.arange(len(model_names))\n",
    "width = 0.25\n",
    "\n",
    "fig, ax = plt.subplots()\n",
    "rects1 = ax.bar(x, acc_means, width,  yerr=acc_stds, label='Accuracy', edgecolor = 'black')\n",
    "rects1 = ax.bar(x + width , pre_means, width,  yerr=pre_stds, label='Precision', edgecolor = 'black')\n",
    "rects2 = ax.bar(x + width * 2, rec_means, width,  yerr=rec_stds, label='Recall', edgecolor = 'black')\n",
    "\n",
    "ax.set_ylabel('Metric value')\n",
    "ax.set_title('k=5-cross validation metric variance')\n",
    "ax.set_xticks(x + width, model_names, rotation = 30)\n",
    "ax.legend()\n",
    "\n",
    "fig.tight_layout()\n",
    "plt.show()"
   ]
  },
  {
   "cell_type": "markdown",
   "metadata": {},
   "source": [
    "**Q: While you may not have enough time to run these experiments during today's practical session, what difference do you think you would notice when k = 2 vs. k = 5 vs. k=10?**\n",
    "\n",
    "**A:**\n",
    "<br/>\n",
    "k=2 divides the training & validation set into 50%, making the training set smaller and the validation set larger the 2 times it get evaluated on. This can make the variance look smaller than how it actually can be with k=5. Similarly a large enough k value could make the variance look much larger as the label distribution of the validation set can change more drastically."
   ]
  },
  {
   "cell_type": "code",
   "execution_count": null,
   "metadata": {},
   "outputs": [],
   "source": []
  }
 ],
 "metadata": {
  "kernelspec": {
   "display_name": "CS-431 Kernel",
   "language": "python",
   "name": "cs_431_kernel"
  },
  "language_info": {
   "codemirror_mode": {
    "name": "ipython",
    "version": 3
   },
   "file_extension": ".py",
   "mimetype": "text/x-python",
   "name": "python",
   "nbconvert_exporter": "python",
   "pygments_lexer": "ipython3",
   "version": "3.11.5"
  },
  "vscode": {
   "interpreter": {
    "hash": "fc2d99b9d17c3b8326e5aaa51e8ab768ef640c8dd496033039049585146abff1"
   }
  }
 },
 "nbformat": 4,
 "nbformat_minor": 4
}
